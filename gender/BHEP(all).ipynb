{
  "nbformat": 4,
  "nbformat_minor": 0,
  "metadata": {
    "colab": {
      "name": "BHEP(all).ipynb",
      "provenance": []
    },
    "kernelspec": {
      "name": "python3",
      "display_name": "Python 3"
    }
  },
  "cells": [
    {
      "cell_type": "code",
      "metadata": {
        "colab": {
          "base_uri": "https://localhost:8080/"
        },
        "id": "tURacaPSbVQo",
        "outputId": "5aba4095-bf0e-4945-ebb9-73afc5f2b1f2"
      },
      "source": [
        "from google.colab import drive\n",
        "drive.mount('/content/drive')"
      ],
      "execution_count": null,
      "outputs": [
        {
          "output_type": "stream",
          "text": [
            "Drive already mounted at /content/drive; to attempt to forcibly remount, call drive.mount(\"/content/drive\", force_remount=True).\n"
          ],
          "name": "stdout"
        }
      ]
    },
    {
      "cell_type": "code",
      "metadata": {
        "colab": {
          "base_uri": "https://localhost:8080/"
        },
        "id": "DuyNFlC5boph",
        "outputId": "4708591b-8448-4b0f-bf61-d3340084d846"
      },
      "source": [
        "# to check number of files presen in bhepwithoutmask\n",
        "cd /content/drive/My Drive/Dummy code/BHEPImagesWithoutMask"
      ],
      "execution_count": null,
      "outputs": [
        {
          "output_type": "stream",
          "text": [
            "/content/drive/My Drive/Dummy code/BHEPImagesWithoutMask\n"
          ],
          "name": "stdout"
        }
      ]
    },
    {
      "cell_type": "code",
      "metadata": {
        "id": "RfRHbQ9hb9K6"
      },
      "source": [
        "import os\n",
        "all_images = os.listdir()"
      ],
      "execution_count": null,
      "outputs": []
    },
    {
      "cell_type": "code",
      "metadata": {
        "colab": {
          "base_uri": "https://localhost:8080/"
        },
        "id": "EePrQGmAcL_Y",
        "outputId": "5ff8bbd2-742f-4656-e2de-bc6bceca6c6a"
      },
      "source": [
        "len(all_images), all_images[0], type(all_images[0])"
      ],
      "execution_count": null,
      "outputs": [
        {
          "output_type": "execute_result",
          "data": {
            "text/plain": [
              "(14000, '13768.jpg', str)"
            ]
          },
          "metadata": {
            "tags": []
          },
          "execution_count": 34
        }
      ]
    },
    {
      "cell_type": "code",
      "metadata": {
        "id": "BdV2C7UAciCF"
      },
      "source": [
        "from PIL import Image \n",
        "import numpy as np\n",
        "import matplotlib.pyplot as plt\n",
        "import cv2\n",
        "from statistics import harmonic_mean"
      ],
      "execution_count": null,
      "outputs": []
    },
    {
      "cell_type": "code",
      "metadata": {
        "id": "DBv_GAA5cxMZ"
      },
      "source": [
        "def is_grey_scale(img, img_path):\n",
        "  img = Image.open(img_path).convert('RGB')\n",
        "  w,h = img.size\n",
        "  for i in range(w):\n",
        "    for j in range(h):\n",
        "      r,g,b = img.getpixel((i,j))\n",
        "      if r != g != b: \n",
        "        return False\n",
        "  return True\n",
        "\n",
        "def rgbToyuv(r,g,b):\n",
        "  y= 0.257*r + 0.504*g + 0.098*b +16\n",
        "  u= -0.148*r - 0.291*g + 0.439*b + 128\n",
        "  v= 0.439*r - 0.368*g - 0.071*b +128\n",
        "  return [y,u,v]\n",
        "\n",
        "def yuvTorgb(y,u,v):\n",
        "  y-= 16\n",
        "  u-= 128\n",
        "  v-= 128\n",
        "  \n",
        "  r= 1.164*y + 1.596*v\n",
        "  g= 1.164*y - 0.392*u - 0.813*v\n",
        "  b= 1.164*y + 2.017*u\n",
        "  \n",
        "  return [r,g,b]"
      ],
      "execution_count": null,
      "outputs": []
    },
    {
      "cell_type": "code",
      "metadata": {
        "id": "IxvRbo4wcykn"
      },
      "source": [
        "from statistics import harmonic_mean\n",
        "def get_histogram(image, bins):\n",
        "  # array with size of bins, set to zeros\n",
        "  histogram = np.zeros(bins)\n",
        "  \n",
        "  # loop through pixels and sum up counts of pixels\n",
        "  for pixel in image:\n",
        "      histogram[pixel] += 1\n",
        "  \n",
        "  # return our final result\n",
        "  return histogram\n",
        "\n",
        "def harmonicMean(a):\n",
        "  return harmonic_mean(a)\n",
        "\n",
        "def cumsum(a):\n",
        "  a = iter(a)\n",
        "  b = [next(a)]\n",
        "  for i in a:\n",
        "      b.append(b[-1] + i)\n",
        "  return np.array(b)\n",
        "\n",
        "def calc_HE(hist):\n",
        "  cs = cumsum(hist)\n",
        "  #print(\"cs len \", len(cs))\n",
        "  nj = (cs - cs.min()) * 255\n",
        "  N = cs.max() - cs.min()\n",
        "\n",
        "# re-normalize the cdf (cumulative distributive function)\n",
        "  cs = nj / N\n",
        "  #print(type(cs))\n",
        "  cs = cs.astype('uint8')\n",
        "  return cs\n"
      ],
      "execution_count": null,
      "outputs": []
    },
    {
      "cell_type": "code",
      "metadata": {
        "id": "PBlIkgPSc0bA"
      },
      "source": [
        "def BHEP(img):\n",
        "  img= np.asarray(img)\n",
        "  flat = img.flatten()\n",
        "\n",
        "  #hist = get_histogram(flat, 256)\n",
        "  hist= cv2.calcHist([img],[0],None,[256],[0,256])\n",
        "  hist= hist.flatten()\n",
        "  hm= harmonic_mean(hist)\n",
        "\n",
        "  low= []\n",
        "  high= []\n",
        "  d_low= {}\n",
        "  d_high= {}\n",
        "  \n",
        "  for i in range(256):\n",
        "    if hist[i]<=hm:\n",
        "      low.append(hist[i])\n",
        "      d_low[i]= 1\n",
        "    else:\n",
        "      high.append(hist[i])\n",
        "      d_high[i]= 1\n",
        "\n",
        "  low= np.array(low)\n",
        "  high= np.array(high)\n",
        "\n",
        "  cs_lower= calc_HE(low)\n",
        "  cs_higher= calc_HE(high)\n",
        "\n",
        "  cs_final= [0 for i in range(256)]\n",
        "  j_low= 0\n",
        "  j_high= 0\n",
        "  for i in range(256):\n",
        "    if i in d_low:\n",
        "      cs_final[i]= cs_lower[j_low]\n",
        "      j_low+=1\n",
        "    else:\n",
        "      cs_final[i]= cs_higher[j_high]\n",
        "      j_high+=1\n",
        "    #cs_final[i]= max(cs_lower[i],cs_higher[i])\n",
        "\n",
        "  cs_final= np.array(cs_final)\n",
        "  img_new = cs_final[flat]\n",
        "  img_new = np.reshape(img_new, img.shape)\n",
        "  return img_new\n"
      ],
      "execution_count": null,
      "outputs": []
    },
    {
      "cell_type": "code",
      "metadata": {
        "id": "mMnH4D6Xc2No"
      },
      "source": [
        "def complete_bhep(img, img_path, img_name):\n",
        "  gray_img= is_grey_scale(img, img_path+img_name)\n",
        "  img_a= np.asarray(img)\n",
        "  img_arr= np.array([])\n",
        "  if gray_img:\n",
        "    img_arr= BHEP(img)\n",
        "\n",
        "  else:\n",
        "    #print(1)\n",
        "    img_cv2= cv2.imread(img_path+img_name,1)\n",
        "    r,g,b= cv2.split(img_cv2)\n",
        "    y,u,v= rgbToyuv(r,g,b)\n",
        "\n",
        "    cv2.imwrite('converted.jpg',y)\n",
        "    img_y_channel= Image.open('converted.jpg')\n",
        "    img_arr= BHEP(img_y_channel)\n",
        "\n",
        "    # r,g,b= yuvTorgb(img_new_arr, u, v)\n",
        "    # r= np.rint(r)\n",
        "    # g= np.rint(g)\n",
        "    # b= np.rint(b)\n",
        "    # img_arr= cv2.merge((r,g,b))\n",
        "    # cv2.imwrite('neww3.jpg', img_arr)\n",
        "    #img_arr= new_img\n",
        "\n",
        "  #result = np.vstack([img_arr,u,v])\n",
        "  #cv2.imwrite('res.jpg', result)\n",
        "  cv2.imwrite('/content/drive/My Drive/Dummy code/BHEPImagesWithoutMask/'+img_name, img_arr)\n",
        "  # fig = plt.figure()\n",
        "  # fig.set_figheight(15)\n",
        "  # fig.set_figwidth(15)\n",
        "\n",
        "  # fig.add_subplot(1,2,1)\n",
        "  # plt.imshow(img, cmap= 'gray')\n",
        "\n",
        "  # # display the new image\n",
        "  # fig.add_subplot(1,2,2)\n",
        "  # plt.imshow(img_arr, cmap= 'gray')\n",
        "\n",
        "  # plt.show(block=True)\n"
      ],
      "execution_count": null,
      "outputs": []
    },
    {
      "cell_type": "code",
      "metadata": {
        "id": "nd4OE7uoc4UQ",
        "colab": {
          "base_uri": "https://localhost:8080/"
        },
        "outputId": "802d2364-6274-45bf-ec6b-ff181f013f63"
      },
      "source": [
        "path= \"\"\n",
        "for img in all_images:\n",
        "  image = Image.open(path+img)\n",
        "  complete_bhep(image, path, img)\n",
        "# image = Image.open(img_path)\n",
        "# complete_bhep(image, img_path)"
      ],
      "execution_count": null,
      "outputs": [
        {
          "output_type": "stream",
          "text": [
            "/usr/lib/python3.6/statistics.py:356: RuntimeWarning: divide by zero encountered in true_divide\n",
            "  T, total, count = _sum(1/x for x in _fail_neg(data, errmsg))\n",
            "/usr/local/lib/python3.6/dist-packages/ipykernel_launcher.py:30: RuntimeWarning: invalid value encountered in true_divide\n"
          ],
          "name": "stderr"
        }
      ]
    },
    {
      "cell_type": "code",
      "metadata": {
        "id": "xZumwZq1q8xH"
      },
      "source": [
        ""
      ],
      "execution_count": null,
      "outputs": []
    }
  ]
}